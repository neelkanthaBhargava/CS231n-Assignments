{
 "cells": [
  {
   "cell_type": "markdown",
   "metadata": {},
   "source": [
    "# Softmax exercise\n",
    "\n",
    "*Complete and hand in this completed worksheet (including its outputs and any supporting code outside of the worksheet) with your assignment submission. For more details see the [assignments page](http://vision.stanford.edu/teaching/cs231n/assignments.html) on the course website.*\n",
    "\n",
    "This exercise is analogous to the SVM exercise. You will:\n",
    "\n",
    "- implement a fully-vectorized **loss function** for the Softmax classifier\n",
    "- implement the fully-vectorized expression for its **analytic gradient**\n",
    "- **check your implementation** with numerical gradient\n",
    "- use a validation set to **tune the learning rate and regularization** strength\n",
    "- **optimize** the loss function with **SGD**\n",
    "- **visualize** the final learned weights\n"
   ]
  },
  {
   "cell_type": "code",
   "execution_count": 1,
   "metadata": {
    "collapsed": false
   },
   "outputs": [],
   "source": [
    "import random\n",
    "import numpy as np\n",
    "from cs231n.data_utils import load_CIFAR10\n",
    "import matplotlib.pyplot as plt\n",
    "\n",
    "from __future__ import print_function\n",
    "\n",
    "%matplotlib inline\n",
    "plt.rcParams['figure.figsize'] = (10.0, 8.0) # set default size of plots\n",
    "plt.rcParams['image.interpolation'] = 'nearest'\n",
    "plt.rcParams['image.cmap'] = 'gray'\n",
    "\n",
    "# for auto-reloading extenrnal modules\n",
    "# see http://stackoverflow.com/questions/1907993/autoreload-of-modules-in-ipython\n",
    "%load_ext autoreload\n",
    "%autoreload 2"
   ]
  },
  {
   "cell_type": "code",
   "execution_count": 2,
   "metadata": {
    "collapsed": false
   },
   "outputs": [
    {
     "name": "stdout",
     "output_type": "stream",
     "text": [
      "Train data shape:  (49000, 3073)\n",
      "Train labels shape:  (49000,)\n",
      "Validation data shape:  (1000, 3073)\n",
      "Validation labels shape:  (1000,)\n",
      "Test data shape:  (1000, 3073)\n",
      "Test labels shape:  (1000,)\n",
      "dev data shape:  (500, 3073)\n",
      "dev labels shape:  (500,)\n"
     ]
    }
   ],
   "source": [
    "def get_CIFAR10_data(num_training=49000, num_validation=1000, num_test=1000, num_dev=500):\n",
    "    \"\"\"\n",
    "    Load the CIFAR-10 dataset from disk and perform preprocessing to prepare\n",
    "    it for the linear classifier. These are the same steps as we used for the\n",
    "    SVM, but condensed to a single function.  \n",
    "    \"\"\"\n",
    "    # Load the raw CIFAR-10 data\n",
    "    cifar10_dir = 'cs231n/datasets/cifar-10-batches-py'\n",
    "    X_train, y_train, X_test, y_test = load_CIFAR10(cifar10_dir)\n",
    "    \n",
    "    # subsample the data\n",
    "    mask = list(range(num_training, num_training + num_validation))\n",
    "    X_val = X_train[mask]\n",
    "    y_val = y_train[mask]\n",
    "    mask = list(range(num_training))\n",
    "    X_train = X_train[mask]\n",
    "    y_train = y_train[mask]\n",
    "    mask = list(range(num_test))\n",
    "    X_test = X_test[mask]\n",
    "    y_test = y_test[mask]\n",
    "    mask = np.random.choice(num_training, num_dev, replace=False)\n",
    "    X_dev = X_train[mask]\n",
    "    y_dev = y_train[mask]\n",
    "    \n",
    "    # Preprocessing: reshape the image data into rows\n",
    "    X_train = np.reshape(X_train, (X_train.shape[0], -1))\n",
    "    X_val = np.reshape(X_val, (X_val.shape[0], -1))\n",
    "    X_test = np.reshape(X_test, (X_test.shape[0], -1))\n",
    "    X_dev = np.reshape(X_dev, (X_dev.shape[0], -1))\n",
    "    \n",
    "    # Normalize the data: subtract the mean image\n",
    "    mean_image = np.mean(X_train, axis = 0)\n",
    "    X_train -= mean_image\n",
    "    X_val -= mean_image\n",
    "    X_test -= mean_image\n",
    "    X_dev -= mean_image\n",
    "    \n",
    "    # add bias dimension and transform into columns\n",
    "    X_train = np.hstack([X_train, np.ones((X_train.shape[0], 1))])\n",
    "    X_val = np.hstack([X_val, np.ones((X_val.shape[0], 1))])\n",
    "    X_test = np.hstack([X_test, np.ones((X_test.shape[0], 1))])\n",
    "    X_dev = np.hstack([X_dev, np.ones((X_dev.shape[0], 1))])\n",
    "    \n",
    "    return X_train, y_train, X_val, y_val, X_test, y_test, X_dev, y_dev\n",
    "\n",
    "\n",
    "# Invoke the above function to get our data.\n",
    "X_train, y_train, X_val, y_val, X_test, y_test, X_dev, y_dev = get_CIFAR10_data()\n",
    "print('Train data shape: ', X_train.shape)\n",
    "print('Train labels shape: ', y_train.shape)\n",
    "print('Validation data shape: ', X_val.shape)\n",
    "print('Validation labels shape: ', y_val.shape)\n",
    "print('Test data shape: ', X_test.shape)\n",
    "print('Test labels shape: ', y_test.shape)\n",
    "print('dev data shape: ', X_dev.shape)\n",
    "print('dev labels shape: ', y_dev.shape)"
   ]
  },
  {
   "cell_type": "markdown",
   "metadata": {},
   "source": [
    "## Softmax Classifier\n",
    "\n",
    "Your code for this section will all be written inside **cs231n/classifiers/softmax.py**. \n"
   ]
  },
  {
   "cell_type": "code",
   "execution_count": 3,
   "metadata": {
    "collapsed": false
   },
   "outputs": [
    {
     "name": "stdout",
     "output_type": "stream",
     "text": [
      "loss: 2.357528\n",
      "sanity check: 2.302585\n"
     ]
    }
   ],
   "source": [
    "# First implement the naive softmax loss function with nested loops.\n",
    "# Open the file cs231n/classifiers/softmax.py and implement the\n",
    "# softmax_loss_naive function.\n",
    "\n",
    "from cs231n.classifiers.softmax import softmax_loss_naive\n",
    "import time\n",
    "\n",
    "# Generate a random softmax weight matrix and use it to compute the loss.\n",
    "W = np.random.randn(3073, 10) * 0.0001\n",
    "loss, grad = softmax_loss_naive(W, X_dev, y_dev, 0.0)\n",
    "\n",
    "# As a rough sanity check, our loss should be something close to -log(0.1).\n",
    "print('loss: %f' % loss)\n",
    "print('sanity check: %f' % (-np.log(0.1)))"
   ]
  },
  {
   "cell_type": "markdown",
   "metadata": {},
   "source": [
    "## Inline Question 1:\n",
    "Why do we expect our loss to be close to -log(0.1)? Explain briefly.**\n",
    "\n",
    "**Your answer:** *Fill this in*\n"
   ]
  },
  {
   "cell_type": "code",
   "execution_count": 4,
   "metadata": {
    "collapsed": false
   },
   "outputs": [
    {
     "name": "stdout",
     "output_type": "stream",
     "text": [
      "numerical: 1.565064 analytic: 1.565064, relative error: 3.439357e-08\n",
      "numerical: 3.239249 analytic: 3.239249, relative error: 5.825385e-09\n",
      "numerical: 6.119567 analytic: 6.119567, relative error: 1.407047e-08\n",
      "numerical: 0.694782 analytic: 0.694781, relative error: 8.761228e-08\n",
      "numerical: -0.675114 analytic: -0.675114, relative error: 1.308643e-07\n",
      "numerical: 3.026065 analytic: 3.026065, relative error: 3.109135e-08\n",
      "numerical: -1.306510 analytic: -1.306510, relative error: 3.571722e-09\n",
      "numerical: -1.308689 analytic: -1.308689, relative error: 1.890300e-08\n",
      "numerical: 2.893827 analytic: 2.893826, relative error: 2.024723e-08\n",
      "numerical: 2.942445 analytic: 2.942445, relative error: 2.652762e-08\n",
      "numerical: -1.297228 analytic: -1.297228, relative error: 1.178521e-08\n",
      "numerical: 0.814027 analytic: 0.814027, relative error: 1.240194e-07\n",
      "numerical: 2.343421 analytic: 2.343421, relative error: 1.514972e-08\n",
      "numerical: 3.496468 analytic: 3.496468, relative error: 1.599868e-08\n",
      "numerical: 3.016569 analytic: 3.016569, relative error: 1.498453e-08\n",
      "numerical: 4.387389 analytic: 4.387389, relative error: 2.748312e-08\n",
      "numerical: -0.792104 analytic: -0.792104, relative error: 1.413419e-08\n",
      "numerical: 2.726950 analytic: 2.726950, relative error: 8.706827e-09\n",
      "numerical: -6.269968 analytic: -6.269968, relative error: 1.147440e-08\n",
      "numerical: 1.649277 analytic: 1.649277, relative error: 3.356933e-08\n"
     ]
    }
   ],
   "source": [
    "# Complete the implementation of softmax_loss_naive and implement a (naive)\n",
    "# version of the gradient that uses nested loops.\n",
    "loss, grad = softmax_loss_naive(W, X_dev, y_dev, 0.0)\n",
    "\n",
    "# As we did for the SVM, use numeric gradient checking as a debugging tool.\n",
    "# The numeric gradient should be close to the analytic gradient.\n",
    "from cs231n.gradient_check import grad_check_sparse\n",
    "f = lambda w: softmax_loss_naive(w, X_dev, y_dev, 0.0)[0]\n",
    "grad_numerical = grad_check_sparse(f, W, grad, 10)\n",
    "\n",
    "# similar to SVM case, do another gradient check with regularization\n",
    "loss, grad = softmax_loss_naive(W, X_dev, y_dev, 5e1)\n",
    "f = lambda w: softmax_loss_naive(w, X_dev, y_dev, 5e1)[0]\n",
    "grad_numerical = grad_check_sparse(f, W, grad, 10)"
   ]
  },
  {
   "cell_type": "code",
   "execution_count": 7,
   "metadata": {
    "collapsed": false
   },
   "outputs": [
    {
     "name": "stdout",
     "output_type": "stream",
     "text": [
      "naive loss: 2.357528e+00 computed in 0.356254s\n",
      "vectorized loss: 2.357528e+00 computed in 0.018013s\n",
      "Loss difference: 0.000000\n",
      "Gradient difference: 0.000000\n"
     ]
    }
   ],
   "source": [
    "# Now that we have a naive implementation of the softmax loss function and its gradient,\n",
    "# implement a vectorized version in softmax_loss_vectorized.\n",
    "# The two versions should compute the same results, but the vectorized version should be\n",
    "# much faster.\n",
    "tic = time.time()\n",
    "loss_naive, grad_naive = softmax_loss_naive(W, X_dev, y_dev, 0.000005)\n",
    "toc = time.time()\n",
    "print('naive loss: %e computed in %fs' % (loss_naive, toc - tic))\n",
    "\n",
    "from cs231n.classifiers.softmax import softmax_loss_vectorized\n",
    "tic = time.time()\n",
    "loss_vectorized, grad_vectorized = softmax_loss_vectorized(W, X_dev, y_dev, 0.000005)\n",
    "toc = time.time()\n",
    "print('vectorized loss: %e computed in %fs' % (loss_vectorized, toc - tic))\n",
    "\n",
    "# As we did for the SVM, we use the Frobenius norm to compare the two versions\n",
    "# of the gradient.\n",
    "grad_difference = np.linalg.norm(grad_naive - grad_vectorized, ord='fro')\n",
    "print('Loss difference: %f' % np.abs(loss_naive - loss_vectorized))\n",
    "print('Gradient difference: %f' % grad_difference)"
   ]
  },
  {
   "cell_type": "code",
   "execution_count": 13,
   "metadata": {
    "collapsed": false
   },
   "outputs": [
    {
     "name": "stdout",
     "output_type": "stream",
     "text": [
      "l =  1e-07 r =  25000.0\n",
      "l =  1e-07 r =  27500.0\n",
      "l =  1e-07 r =  30000.0\n",
      "l =  1e-07 r =  32500.0\n",
      "l =  1e-07 r =  35000.0\n",
      "l =  1e-07 r =  37500.0\n",
      "l =  1e-07 r =  40000.0\n",
      "l =  1e-07 r =  42500.0\n",
      "l =  1e-07 r =  45000.0\n",
      "l =  1e-07 r =  47500.0\n",
      "l =  2e-07 r =  25000.0\n",
      "l =  2e-07 r =  27500.0\n",
      "l =  2e-07 r =  30000.0\n",
      "l =  2e-07 r =  32500.0\n",
      "l =  2e-07 r =  35000.0\n",
      "l =  2e-07 r =  37500.0\n",
      "l =  2e-07 r =  40000.0\n",
      "l =  2e-07 r =  42500.0\n",
      "l =  2e-07 r =  45000.0\n",
      "l =  2e-07 r =  47500.0\n",
      "l =  3e-07 r =  25000.0\n",
      "l =  3e-07 r =  27500.0\n",
      "l =  3e-07 r =  30000.0\n",
      "l =  3e-07 r =  32500.0\n",
      "l =  3e-07 r =  35000.0\n",
      "l =  3e-07 r =  37500.0\n",
      "l =  3e-07 r =  40000.0\n",
      "l =  3e-07 r =  42500.0\n",
      "l =  3e-07 r =  45000.0\n",
      "l =  3e-07 r =  47500.0\n",
      "l =  4e-07 r =  25000.0\n",
      "l =  4e-07 r =  27500.0\n",
      "l =  4e-07 r =  30000.0\n",
      "l =  4e-07 r =  32500.0\n",
      "l =  4e-07 r =  35000.0\n",
      "l =  4e-07 r =  37500.0\n",
      "l =  4e-07 r =  40000.0\n",
      "l =  4e-07 r =  42500.0\n",
      "l =  4e-07 r =  45000.0\n",
      "l =  4e-07 r =  47500.0\n",
      "\n",
      "iteration 0 / 1500: loss 775.021629\n",
      "iteration 100 / 1500: loss 104.960071\n",
      "iteration 200 / 1500: loss 15.789964\n",
      "iteration 300 / 1500: loss 3.880664\n",
      "iteration 400 / 1500: loss 2.320469\n",
      "iteration 500 / 1500: loss 2.086508\n",
      "iteration 600 / 1500: loss 2.077358\n",
      "iteration 700 / 1500: loss 2.075411\n",
      "iteration 800 / 1500: loss 2.110183\n",
      "iteration 900 / 1500: loss 2.064211\n",
      "iteration 1000 / 1500: loss 2.027915\n",
      "iteration 1100 / 1500: loss 2.117092\n",
      "iteration 1200 / 1500: loss 2.054675\n",
      "iteration 1300 / 1500: loss 2.090857\n",
      "iteration 1400 / 1500: loss 2.123295\n",
      "\n",
      "lr 1.000000e-07 reg 2.500000e+04 train accuracy: 0.326286 val accuracy: 0.339000\n",
      "lr 1.000000e-07 reg 2.750000e+04 train accuracy: 0.320898 val accuracy: 0.332000\n",
      "lr 1.000000e-07 reg 3.000000e+04 train accuracy: 0.324367 val accuracy: 0.336000\n",
      "lr 1.000000e-07 reg 3.250000e+04 train accuracy: 0.326245 val accuracy: 0.341000\n",
      "lr 1.000000e-07 reg 3.500000e+04 train accuracy: 0.315020 val accuracy: 0.328000\n",
      "lr 1.000000e-07 reg 3.750000e+04 train accuracy: 0.314816 val accuracy: 0.333000\n",
      "lr 1.000000e-07 reg 4.000000e+04 train accuracy: 0.318776 val accuracy: 0.333000\n",
      "lr 1.000000e-07 reg 4.250000e+04 train accuracy: 0.309020 val accuracy: 0.334000\n",
      "lr 1.000000e-07 reg 4.500000e+04 train accuracy: 0.308102 val accuracy: 0.319000\n",
      "lr 1.000000e-07 reg 4.750000e+04 train accuracy: 0.310776 val accuracy: 0.325000\n",
      "lr 2.000000e-07 reg 2.500000e+04 train accuracy: 0.332735 val accuracy: 0.351000\n",
      "lr 2.000000e-07 reg 2.750000e+04 train accuracy: 0.334245 val accuracy: 0.348000\n",
      "lr 2.000000e-07 reg 3.000000e+04 train accuracy: 0.318653 val accuracy: 0.336000\n",
      "lr 2.000000e-07 reg 3.250000e+04 train accuracy: 0.322980 val accuracy: 0.341000\n",
      "lr 2.000000e-07 reg 3.500000e+04 train accuracy: 0.318469 val accuracy: 0.323000\n",
      "lr 2.000000e-07 reg 3.750000e+04 train accuracy: 0.319612 val accuracy: 0.332000\n",
      "lr 2.000000e-07 reg 4.000000e+04 train accuracy: 0.316429 val accuracy: 0.326000\n",
      "lr 2.000000e-07 reg 4.250000e+04 train accuracy: 0.309449 val accuracy: 0.330000\n",
      "lr 2.000000e-07 reg 4.500000e+04 train accuracy: 0.308265 val accuracy: 0.323000\n",
      "lr 2.000000e-07 reg 4.750000e+04 train accuracy: 0.313408 val accuracy: 0.317000\n",
      "lr 3.000000e-07 reg 2.500000e+04 train accuracy: 0.329837 val accuracy: 0.339000\n",
      "lr 3.000000e-07 reg 2.750000e+04 train accuracy: 0.328694 val accuracy: 0.343000\n",
      "lr 3.000000e-07 reg 3.000000e+04 train accuracy: 0.317061 val accuracy: 0.329000\n",
      "lr 3.000000e-07 reg 3.250000e+04 train accuracy: 0.321061 val accuracy: 0.327000\n",
      "lr 3.000000e-07 reg 3.500000e+04 train accuracy: 0.313469 val accuracy: 0.330000\n",
      "lr 3.000000e-07 reg 3.750000e+04 train accuracy: 0.317531 val accuracy: 0.335000\n",
      "lr 3.000000e-07 reg 4.000000e+04 train accuracy: 0.315510 val accuracy: 0.339000\n",
      "lr 3.000000e-07 reg 4.250000e+04 train accuracy: 0.321224 val accuracy: 0.336000\n",
      "lr 3.000000e-07 reg 4.500000e+04 train accuracy: 0.314367 val accuracy: 0.337000\n",
      "lr 3.000000e-07 reg 4.750000e+04 train accuracy: 0.302327 val accuracy: 0.317000\n",
      "lr 4.000000e-07 reg 2.500000e+04 train accuracy: 0.325306 val accuracy: 0.336000\n",
      "lr 4.000000e-07 reg 2.750000e+04 train accuracy: 0.329265 val accuracy: 0.349000\n",
      "lr 4.000000e-07 reg 3.000000e+04 train accuracy: 0.317408 val accuracy: 0.332000\n",
      "lr 4.000000e-07 reg 3.250000e+04 train accuracy: 0.313061 val accuracy: 0.335000\n",
      "lr 4.000000e-07 reg 3.500000e+04 train accuracy: 0.322653 val accuracy: 0.333000\n",
      "lr 4.000000e-07 reg 3.750000e+04 train accuracy: 0.314612 val accuracy: 0.346000\n",
      "lr 4.000000e-07 reg 4.000000e+04 train accuracy: 0.317959 val accuracy: 0.334000\n",
      "lr 4.000000e-07 reg 4.250000e+04 train accuracy: 0.302857 val accuracy: 0.319000\n",
      "lr 4.000000e-07 reg 4.500000e+04 train accuracy: 0.300327 val accuracy: 0.323000\n",
      "lr 4.000000e-07 reg 4.750000e+04 train accuracy: 0.313265 val accuracy: 0.329000\n",
      "best validation accuracy achieved during cross-validation: 0.351000\n"
     ]
    }
   ],
   "source": [
    "# Use the validation set to tune hyperparameters (regularization strength and\n",
    "# learning rate). You should experiment with different ranges for the learning\n",
    "# rates and regularization strengths; if you are careful you should be able to\n",
    "# get a classification accuracy of over 0.35 on the validation set.\n",
    "from cs231n.classifiers import Softmax\n",
    "results = {}\n",
    "best_val = -1\n",
    "best_softmax = Softmax()\n",
    "learning_rates = [1e-7, 5e-7]\n",
    "regularization_strengths = [2.5e4, 5e4]\n",
    "\n",
    "################################################################################\n",
    "# TODO:                                                                        #\n",
    "# Use the validation set to set the learning rate and regularization strength. #\n",
    "# This should be identical to the validation that you did for the SVM; save    #\n",
    "# the best trained softmax classifer in best_softmax.                          #\n",
    "################################################################################\n",
    "for l in np.arange(learning_rates[0],learning_rates[1],step = 1e-7):\n",
    "    for r in np.arange(regularization_strengths[0],regularization_strengths[1],step = 0.25e4):\n",
    "        print('l = ',l,'r = ',r)\n",
    "        \n",
    "        temp_softmax = Softmax()\n",
    "        loss_temp = temp_softmax.train(X_train, y_train, learning_rate=l, reg=r,\n",
    "                                       num_iters=1500, verbose=False)\n",
    "        y_train_pred_temp = temp_softmax.predict(X_train)\n",
    "        temp_accuracy_train = np.mean(y_train == y_train_pred_temp)\n",
    "        y_val_pred_temp = temp_softmax.predict(X_val)\n",
    "        temp_accuracy_val = np.mean(y_val == y_val_pred_temp)\n",
    "        results[(l,r)] = (temp_accuracy_train,temp_accuracy_val)\n",
    "        if temp_accuracy_val>best_val:\n",
    "            best_val = temp_accuracy_val\n",
    "            best_l,best_r=l,r\n",
    "\n",
    "################################################################################\n",
    "#                              END OF YOUR CODE                                #\n",
    "################################################################################\n",
    "\n",
    "print()\n",
    "los = best_softmax.train(X_train, y_train, learning_rate = best_l, reg = best_r,\n",
    "                         num_iters=1500, verbose=True)\n",
    "print()\n",
    "# Print out results.\n",
    "for lr, reg in sorted(results):\n",
    "    train_accuracy, val_accuracy = results[(lr, reg)]\n",
    "    print('lr %e reg %e train accuracy: %f val accuracy: %f' % (\n",
    "                lr, reg, train_accuracy, val_accuracy))\n",
    "    \n",
    "print('best validation accuracy achieved during cross-validation: %f' % best_val)"
   ]
  },
  {
   "cell_type": "code",
   "execution_count": 14,
   "metadata": {
    "collapsed": false
   },
   "outputs": [
    {
     "name": "stdout",
     "output_type": "stream",
     "text": [
      "softmax on raw pixels final test set accuracy: 0.332000\n"
     ]
    }
   ],
   "source": [
    "# evaluate on test set\n",
    "# Evaluate the best softmax on test set\n",
    "y_test_pred = best_softmax.predict(X_test)\n",
    "test_accuracy = np.mean(y_test == y_test_pred)\n",
    "print('softmax on raw pixels final test set accuracy: %f' % (test_accuracy, ))"
   ]
  },
  {
   "cell_type": "code",
   "execution_count": 15,
   "metadata": {
    "collapsed": false
   },
   "outputs": [
    {
     "data": {
      "image/png": "[encoded data removed]",
      "text/plain": [
       "<matplotlib.figure.Figure at 0x22600d2bf60>"
      ]
     },
     "metadata": {},
     "output_type": "display_data"
    }
   ],
   "source": [
    "# Visualize the learned weights for each class\n",
    "w = best_softmax.W[:-1,:] # strip out the bias\n",
    "w = w.reshape(32, 32, 3, 10)\n",
    "\n",
    "w_min, w_max = np.min(w), np.max(w)\n",
    "\n",
    "classes = ['plane', 'car', 'bird', 'cat', 'deer', 'dog', 'frog', 'horse', 'ship', 'truck']\n",
    "for i in range(10):\n",
    "    plt.subplot(2, 5, i + 1)\n",
    "    \n",
    "    # Rescale the weights to be between 0 and 255\n",
    "    wimg = 255.0 * (w[:, :, :, i].squeeze() - w_min) / (w_max - w_min)\n",
    "    plt.imshow(wimg.astype('uint8'))\n",
    "    plt.axis('off')\n",
    "    plt.title(classes[i])"
   ]
  },
  {
   "cell_type": "code",
   "execution_count": null,
   "metadata": {
    "collapsed": true
   },
   "outputs": [],
   "source": []
  }
 ],
 "metadata": {
  "kernelspec": {
   "display_name": "Python 3",
   "language": "python",
   "name": "python3"
  },
  "language_info": {
   "codemirror_mode": {
    "name": "ipython",
    "version": 3
   },
   "file_extension": ".py",
   "mimetype": "text/x-python",
   "name": "python",
   "nbconvert_exporter": "python",
   "pygments_lexer": "ipython3",
   "version": "3.5.1"
  }
 },
 "nbformat": 4,
 "nbformat_minor": 0
}
